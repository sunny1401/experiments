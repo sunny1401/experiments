{
 "cells": [
  {
   "cell_type": "code",
   "execution_count": 1,
   "metadata": {},
   "outputs": [],
   "source": [
    "from pykeen.triples import TriplesFactory"
   ]
  },
  {
   "cell_type": "markdown",
   "metadata": {},
   "source": [
    "## Checking out training data"
   ]
  },
  {
   "cell_type": "code",
   "execution_count": 2,
   "metadata": {},
   "outputs": [],
   "source": [
    "training = TriplesFactory(path=\"kg/train.hrt.txt\")"
   ]
  },
  {
   "cell_type": "code",
   "execution_count": 3,
   "metadata": {},
   "outputs": [],
   "source": [
    "head_to_id = training.entity_to_id"
   ]
  },
  {
   "cell_type": "code",
   "execution_count": 4,
   "metadata": {},
   "outputs": [],
   "source": [
    "relation_to_id = training.relation_to_id"
   ]
  },
  {
   "cell_type": "code",
   "execution_count": 5,
   "metadata": {},
   "outputs": [
    {
     "data": {
      "text/plain": [
       "133369"
      ]
     },
     "execution_count": 5,
     "metadata": {},
     "output_type": "execute_result"
    }
   ],
   "source": [
    "len(head_to_id)"
   ]
  },
  {
   "cell_type": "code",
   "execution_count": 6,
   "metadata": {},
   "outputs": [
    {
     "data": {
      "text/plain": [
       "4"
      ]
     },
     "execution_count": 6,
     "metadata": {},
     "output_type": "execute_result"
    }
   ],
   "source": [
    "len(relation_to_id)"
   ]
  },
  {
   "cell_type": "code",
   "execution_count": 7,
   "metadata": {},
   "outputs": [
    {
     "data": {
      "text/plain": [
       "{'GENE_DISEASE_ot_genetic_association',\n",
       " 'GENE_DISEASE_ot_rna_expression',\n",
       " 'VARIANT_DISEASE_associated',\n",
       " 'VARIANT_GENE_variant'}"
      ]
     },
     "execution_count": 7,
     "metadata": {},
     "output_type": "execute_result"
    }
   ],
   "source": [
    "training.get_most_frequent_relations(n=4)"
   ]
  },
  {
   "cell_type": "code",
   "execution_count": 8,
   "metadata": {},
   "outputs": [
    {
     "data": {
      "text/plain": [
       "398964"
      ]
     },
     "execution_count": 8,
     "metadata": {},
     "output_type": "execute_result"
    }
   ],
   "source": [
    "training.num_triples"
   ]
  },
  {
   "cell_type": "code",
   "execution_count": 9,
   "metadata": {},
   "outputs": [],
   "source": [
    "df = training.tensor_to_df(training.mapped_triples)"
   ]
  },
  {
   "cell_type": "code",
   "execution_count": 10,
   "metadata": {},
   "outputs": [
    {
     "data": {
      "text/plain": [
       "VARIANT_DISEASE_associated             127074\n",
       "GENE_DISEASE_ot_rna_expression         123668\n",
       "VARIANT_GENE_variant                    84356\n",
       "GENE_DISEASE_ot_genetic_association     63866\n",
       "Name: relation_label, dtype: int64"
      ]
     },
     "execution_count": 10,
     "metadata": {},
     "output_type": "execute_result"
    }
   ],
   "source": [
    "df.relation_label.value_counts()"
   ]
  },
  {
   "cell_type": "markdown",
   "metadata": {},
   "source": [
    "There is a class imbalance in the data, which can be expected. However, care to handle this might help improving the model accuracy"
   ]
  },
  {
   "cell_type": "markdown",
   "metadata": {},
   "source": [
    "## Checking out validation and test data"
   ]
  },
  {
   "cell_type": "code",
   "execution_count": 12,
   "metadata": {},
   "outputs": [
    {
     "name": "stderr",
     "output_type": "stream",
     "text": [
      "You're trying to map triples with 4465 entities and 0 relations that are not in the training set. These triples will be excluded from the mapping.\n",
      "In total 4460 from 49755 triples were filtered out\n",
      "You're trying to map triples with 4453 entities and 0 relations that are not in the training set. These triples will be excluded from the mapping.\n",
      "In total 4451 from 49815 triples were filtered out\n"
     ]
    }
   ],
   "source": [
    "valid = TriplesFactory(\n",
    "path=\"kg/valid.hrt.txt\", entity_to_id=training.entity_to_id, relation_to_id=training.relation_to_id,\n",
    ")\n",
    "testing = TriplesFactory(\n",
    "path=\"kg/test.hrt.txt\", entity_to_id=training.entity_to_id, relation_to_id=training.relation_to_id,\n",
    ")"
   ]
  },
  {
   "cell_type": "code",
   "execution_count": 13,
   "metadata": {},
   "outputs": [
    {
     "data": {
      "text/plain": [
       "39526"
      ]
     },
     "execution_count": 13,
     "metadata": {},
     "output_type": "execute_result"
    }
   ],
   "source": [
    "valid.num_entities"
   ]
  },
  {
   "cell_type": "code",
   "execution_count": 14,
   "metadata": {},
   "outputs": [
    {
     "data": {
      "text/plain": [
       "45295"
      ]
     },
     "execution_count": 14,
     "metadata": {},
     "output_type": "execute_result"
    }
   ],
   "source": [
    "valid.num_triples"
   ]
  },
  {
   "cell_type": "code",
   "execution_count": 15,
   "metadata": {},
   "outputs": [],
   "source": [
    "valid_df = valid.tensor_to_df(valid.mapped_triples)"
   ]
  },
  {
   "cell_type": "code",
   "execution_count": 17,
   "metadata": {},
   "outputs": [
    {
     "data": {
      "text/html": [
       "<div>\n",
       "<style scoped>\n",
       "    .dataframe tbody tr th:only-of-type {\n",
       "        vertical-align: middle;\n",
       "    }\n",
       "\n",
       "    .dataframe tbody tr th {\n",
       "        vertical-align: top;\n",
       "    }\n",
       "\n",
       "    .dataframe thead th {\n",
       "        text-align: right;\n",
       "    }\n",
       "</style>\n",
       "<table border=\"1\" class=\"dataframe\">\n",
       "  <thead>\n",
       "    <tr style=\"text-align: right;\">\n",
       "      <th></th>\n",
       "      <th>head_id</th>\n",
       "      <th>head_label</th>\n",
       "      <th>relation_id</th>\n",
       "      <th>relation_label</th>\n",
       "      <th>tail_id</th>\n",
       "      <th>tail_label</th>\n",
       "    </tr>\n",
       "  </thead>\n",
       "  <tbody>\n",
       "    <tr>\n",
       "      <th>0</th>\n",
       "      <td>47</td>\n",
       "      <td>A2M</td>\n",
       "      <td>1</td>\n",
       "      <td>GENE_DISEASE_ot_rna_expression</td>\n",
       "      <td>37505</td>\n",
       "      <td>hepatitis_C_virus_induced_hepatocellular_carci...</td>\n",
       "    </tr>\n",
       "    <tr>\n",
       "      <th>1</th>\n",
       "      <td>47</td>\n",
       "      <td>A2M</td>\n",
       "      <td>1</td>\n",
       "      <td>GENE_DISEASE_ot_rna_expression</td>\n",
       "      <td>37663</td>\n",
       "      <td>lung_adenocarcinoma</td>\n",
       "    </tr>\n",
       "    <tr>\n",
       "      <th>2</th>\n",
       "      <td>52</td>\n",
       "      <td>A4GALT</td>\n",
       "      <td>0</td>\n",
       "      <td>GENE_DISEASE_ot_genetic_association</td>\n",
       "      <td>37566</td>\n",
       "      <td>intelligence</td>\n",
       "    </tr>\n",
       "    <tr>\n",
       "      <th>3</th>\n",
       "      <td>57</td>\n",
       "      <td>AADAC</td>\n",
       "      <td>1</td>\n",
       "      <td>GENE_DISEASE_ot_rna_expression</td>\n",
       "      <td>37003</td>\n",
       "      <td>aldosterone-producing_adenoma</td>\n",
       "    </tr>\n",
       "    <tr>\n",
       "      <th>4</th>\n",
       "      <td>61</td>\n",
       "      <td>AADACP1</td>\n",
       "      <td>1</td>\n",
       "      <td>GENE_DISEASE_ot_rna_expression</td>\n",
       "      <td>133208</td>\n",
       "      <td>squamous_cell_lung_carcinoma</td>\n",
       "    </tr>\n",
       "  </tbody>\n",
       "</table>\n",
       "</div>"
      ],
      "text/plain": [
       "   head_id head_label  relation_id                       relation_label  \\\n",
       "0       47        A2M            1       GENE_DISEASE_ot_rna_expression   \n",
       "1       47        A2M            1       GENE_DISEASE_ot_rna_expression   \n",
       "2       52     A4GALT            0  GENE_DISEASE_ot_genetic_association   \n",
       "3       57      AADAC            1       GENE_DISEASE_ot_rna_expression   \n",
       "4       61    AADACP1            1       GENE_DISEASE_ot_rna_expression   \n",
       "\n",
       "   tail_id                                         tail_label  \n",
       "0    37505  hepatitis_C_virus_induced_hepatocellular_carci...  \n",
       "1    37663                                lung_adenocarcinoma  \n",
       "2    37566                                       intelligence  \n",
       "3    37003                      aldosterone-producing_adenoma  \n",
       "4   133208                       squamous_cell_lung_carcinoma  "
      ]
     },
     "execution_count": 17,
     "metadata": {},
     "output_type": "execute_result"
    }
   ],
   "source": [
    "valid_df.head()"
   ]
  },
  {
   "cell_type": "code",
   "execution_count": 18,
   "metadata": {},
   "outputs": [
    {
     "data": {
      "text/plain": [
       "GENE_DISEASE_ot_rna_expression         14441\n",
       "VARIANT_DISEASE_associated             13983\n",
       "VARIANT_GENE_variant                    8855\n",
       "GENE_DISEASE_ot_genetic_association     8016\n",
       "Name: relation_label, dtype: int64"
      ]
     },
     "execution_count": 18,
     "metadata": {},
     "output_type": "execute_result"
    }
   ],
   "source": [
    "valid_df.relation_label.value_counts()"
   ]
  },
  {
   "cell_type": "code",
   "execution_count": 20,
   "metadata": {},
   "outputs": [
    {
     "data": {
      "text/plain": [
       "39624"
      ]
     },
     "execution_count": 20,
     "metadata": {},
     "output_type": "execute_result"
    }
   ],
   "source": [
    "testing.num_entities"
   ]
  },
  {
   "cell_type": "code",
   "execution_count": 21,
   "metadata": {},
   "outputs": [
    {
     "data": {
      "text/plain": [
       "45364"
      ]
     },
     "execution_count": 21,
     "metadata": {},
     "output_type": "execute_result"
    }
   ],
   "source": [
    "testing.num_triples"
   ]
  },
  {
   "cell_type": "code",
   "execution_count": 22,
   "metadata": {},
   "outputs": [],
   "source": [
    "test_df = testing.tensor_to_df(testing.mapped_triples)"
   ]
  },
  {
   "cell_type": "code",
   "execution_count": 23,
   "metadata": {},
   "outputs": [
    {
     "data": {
      "text/html": [
       "<div>\n",
       "<style scoped>\n",
       "    .dataframe tbody tr th:only-of-type {\n",
       "        vertical-align: middle;\n",
       "    }\n",
       "\n",
       "    .dataframe tbody tr th {\n",
       "        vertical-align: top;\n",
       "    }\n",
       "\n",
       "    .dataframe thead th {\n",
       "        text-align: right;\n",
       "    }\n",
       "</style>\n",
       "<table border=\"1\" class=\"dataframe\">\n",
       "  <thead>\n",
       "    <tr style=\"text-align: right;\">\n",
       "      <th></th>\n",
       "      <th>head_id</th>\n",
       "      <th>head_label</th>\n",
       "      <th>relation_id</th>\n",
       "      <th>relation_label</th>\n",
       "      <th>tail_id</th>\n",
       "      <th>tail_label</th>\n",
       "    </tr>\n",
       "  </thead>\n",
       "  <tbody>\n",
       "    <tr>\n",
       "      <th>0</th>\n",
       "      <td>46</td>\n",
       "      <td>A1CF</td>\n",
       "      <td>1</td>\n",
       "      <td>GENE_DISEASE_ot_rna_expression</td>\n",
       "      <td>37130</td>\n",
       "      <td>breast_carcinoma</td>\n",
       "    </tr>\n",
       "    <tr>\n",
       "      <th>1</th>\n",
       "      <td>47</td>\n",
       "      <td>A2M</td>\n",
       "      <td>0</td>\n",
       "      <td>GENE_DISEASE_ot_genetic_association</td>\n",
       "      <td>36975</td>\n",
       "      <td>adolescent_idiopathic_scoliosis</td>\n",
       "    </tr>\n",
       "    <tr>\n",
       "      <th>2</th>\n",
       "      <td>47</td>\n",
       "      <td>A2M</td>\n",
       "      <td>1</td>\n",
       "      <td>GENE_DISEASE_ot_rna_expression</td>\n",
       "      <td>20255</td>\n",
       "      <td>Malignant_Mesothelioma</td>\n",
       "    </tr>\n",
       "    <tr>\n",
       "      <th>3</th>\n",
       "      <td>49</td>\n",
       "      <td>A2ML1</td>\n",
       "      <td>1</td>\n",
       "      <td>GENE_DISEASE_ot_rna_expression</td>\n",
       "      <td>37369</td>\n",
       "      <td>esophageal_squamous_cell_carcinoma</td>\n",
       "    </tr>\n",
       "    <tr>\n",
       "      <th>4</th>\n",
       "      <td>52</td>\n",
       "      <td>A4GALT</td>\n",
       "      <td>0</td>\n",
       "      <td>GENE_DISEASE_ot_genetic_association</td>\n",
       "      <td>37492</td>\n",
       "      <td>hematocrit</td>\n",
       "    </tr>\n",
       "  </tbody>\n",
       "</table>\n",
       "</div>"
      ],
      "text/plain": [
       "   head_id head_label  relation_id                       relation_label  \\\n",
       "0       46       A1CF            1       GENE_DISEASE_ot_rna_expression   \n",
       "1       47        A2M            0  GENE_DISEASE_ot_genetic_association   \n",
       "2       47        A2M            1       GENE_DISEASE_ot_rna_expression   \n",
       "3       49      A2ML1            1       GENE_DISEASE_ot_rna_expression   \n",
       "4       52     A4GALT            0  GENE_DISEASE_ot_genetic_association   \n",
       "\n",
       "   tail_id                          tail_label  \n",
       "0    37130                    breast_carcinoma  \n",
       "1    36975     adolescent_idiopathic_scoliosis  \n",
       "2    20255              Malignant_Mesothelioma  \n",
       "3    37369  esophageal_squamous_cell_carcinoma  \n",
       "4    37492                          hematocrit  "
      ]
     },
     "execution_count": 23,
     "metadata": {},
     "output_type": "execute_result"
    }
   ],
   "source": [
    "test_df.head()"
   ]
  },
  {
   "cell_type": "code",
   "execution_count": 24,
   "metadata": {},
   "outputs": [
    {
     "data": {
      "text/plain": [
       "GENE_DISEASE_ot_rna_expression         14428\n",
       "VARIANT_DISEASE_associated             14301\n",
       "VARIANT_GENE_variant                    8800\n",
       "GENE_DISEASE_ot_genetic_association     7835\n",
       "Name: relation_label, dtype: int64"
      ]
     },
     "execution_count": 24,
     "metadata": {},
     "output_type": "execute_result"
    }
   ],
   "source": [
    "test_df.relation_label.value_counts()"
   ]
  },
  {
   "cell_type": "code",
   "execution_count": 42,
   "metadata": {},
   "outputs": [],
   "source": [
    "def get_label_ditribution(df_shape, value_counts, label): \n",
    "    value_counts = dict(value_counts)\n",
    "    return {f\"{label}_{val}\": round(value_counts[val]/df_shape, 4) for val in value_counts}"
   ]
  },
  {
   "cell_type": "code",
   "execution_count": 43,
   "metadata": {},
   "outputs": [
    {
     "data": {
      "text/plain": [
       "{'test_GENE_DISEASE_ot_rna_expression': 0.318,\n",
       " 'test_VARIANT_DISEASE_associated': 0.3152,\n",
       " 'test_VARIANT_GENE_variant': 0.194,\n",
       " 'test_GENE_DISEASE_ot_genetic_association': 0.1727}"
      ]
     },
     "execution_count": 43,
     "metadata": {},
     "output_type": "execute_result"
    }
   ],
   "source": [
    "get_label_ditribution(test_df.shape[0], test_df.relation_label.value_counts(), \"test\")"
   ]
  },
  {
   "cell_type": "code",
   "execution_count": 44,
   "metadata": {},
   "outputs": [
    {
     "data": {
      "text/plain": [
       "{'valid_GENE_DISEASE_ot_rna_expression': 0.3188,\n",
       " 'valid_VARIANT_DISEASE_associated': 0.3087,\n",
       " 'valid_VARIANT_GENE_variant': 0.1955,\n",
       " 'valid_GENE_DISEASE_ot_genetic_association': 0.177}"
      ]
     },
     "execution_count": 44,
     "metadata": {},
     "output_type": "execute_result"
    }
   ],
   "source": [
    "get_label_ditribution(valid_df.shape[0], valid_df.relation_label.value_counts(), \"valid\")"
   ]
  },
  {
   "cell_type": "code",
   "execution_count": 46,
   "metadata": {},
   "outputs": [
    {
     "data": {
      "text/plain": [
       "{'train_VARIANT_DISEASE_associated': 0.3185,\n",
       " 'train_GENE_DISEASE_ot_rna_expression': 0.31,\n",
       " 'train_VARIANT_GENE_variant': 0.2114,\n",
       " 'train_GENE_DISEASE_ot_genetic_association': 0.1601}"
      ]
     },
     "execution_count": 46,
     "metadata": {},
     "output_type": "execute_result"
    }
   ],
   "source": [
    "get_label_ditribution(df.shape[0], df.relation_label.value_counts(), \"train\")"
   ]
  },
  {
   "cell_type": "markdown",
   "metadata": {},
   "source": [
    "- The distribution of points is similar in validation and test data - inidicates we can pretty closely estimate the generalization error. \n",
    "- While the distribution for the two biggest classes isn't very different between train and validation set, maybe following a stratified train-test-split can help if required"
   ]
  },
  {
   "cell_type": "markdown",
   "metadata": {},
   "source": [
    "#### Proceeding with running the code and training the model using config given in base model"
   ]
  },
  {
   "cell_type": "code",
   "execution_count": 1,
   "metadata": {},
   "outputs": [],
   "source": [
    "from model_training import KnowledgeGraphModel"
   ]
  },
  {
   "cell_type": "code",
   "execution_count": 2,
   "metadata": {},
   "outputs": [
    {
     "name": "stderr",
     "output_type": "stream",
     "text": [
      "/Users/sankrantijoshi/Documents/miniconda/envs/healx/lib/python3.8/site-packages/ipykernel/ipkernel.py:287: DeprecationWarning: `should_run_async` will not call `transform_cell` automatically in the future. Please pass the result to `transformed_cell` argument and any exception that happen during thetransform in `preprocessing_exc_tuple` in IPython 7.17 and above.\n",
      "  and should_run_async(code)\n",
      "You're trying to map triples with 4465 entities and 0 relations that are not in the training set. These triples will be excluded from the mapping.\n",
      "In total 4460 from 49755 triples were filtered out\n",
      "You're trying to map triples with 4453 entities and 0 relations that are not in the training set. These triples will be excluded from the mapping.\n",
      "In total 4451 from 49815 triples were filtered out\n"
     ]
    }
   ],
   "source": [
    "kg = KnowledgeGraphModel(version_code=False, version_data=False)"
   ]
  },
  {
   "cell_type": "code",
   "execution_count": 3,
   "metadata": {
    "scrolled": true
   },
   "outputs": [],
   "source": [
    "kg()"
   ]
  },
  {
   "cell_type": "code",
   "execution_count": 4,
   "metadata": {},
   "outputs": [
    {
     "name": "stdout",
     "output_type": "stream",
     "text": [
      "PHYHIPL: \n",
      "         head_id                 head_label     score  in_training\n",
      "6168       6168                 AP000365.1  0.000217        False\n",
      "54300     54300                rs121908549  0.000206        False\n",
      "127808   127808                rs879255637  0.000206        False\n",
      "35424     35424                      UQCC2  0.000203        False\n",
      "37367     37367  erythropoetin_measurement  0.000173        False\n",
      "\n",
      "TTC9: \n",
      "         head_id   head_label     score  in_training\n",
      "62100     62100  rs139083043  0.000167        False\n",
      "95731     95731  rs561736395  0.000135        False\n",
      "72141     72141  rs199472887  0.000130        False\n",
      "127917   127917  rs886037613  0.000111        False\n",
      "110062   110062   rs73745348  0.000109        False\n",
      "\n",
      "BRCA1: \n",
      "         head_id    head_label     score  in_training\n",
      "7894       7894         BRCA1  0.000074        False\n",
      "70989     70989   rs193302891  0.000058        False\n",
      "54300     54300   rs121908549  0.000058        False\n",
      "103113   103113    rs63750610  0.000054        False\n",
      "28416     28416  RCV000591919  0.000050        False\n",
      "\n"
     ]
    }
   ],
   "source": [
    "tail_list = ['PHYHIPL', 'TTC9', 'BRCA1']\n",
    "for tail in tail_list:\n",
    "    print(f\"{tail}: \\n {kg.predict(tail=tail)}\\n\")"
   ]
  },
  {
   "cell_type": "code",
   "execution_count": null,
   "metadata": {},
   "outputs": [],
   "source": []
  }
 ],
 "metadata": {
  "kernelspec": {
   "display_name": "Python 3",
   "language": "python",
   "name": "python3"
  },
  "language_info": {
   "codemirror_mode": {
    "name": "ipython",
    "version": 3
   },
   "file_extension": ".py",
   "mimetype": "text/x-python",
   "name": "python",
   "nbconvert_exporter": "python",
   "pygments_lexer": "ipython3",
   "version": "3.8.0"
  }
 },
 "nbformat": 4,
 "nbformat_minor": 4
}
