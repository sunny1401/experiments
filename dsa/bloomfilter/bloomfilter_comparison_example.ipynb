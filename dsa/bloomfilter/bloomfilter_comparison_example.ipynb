{
 "cells": [
  {
   "cell_type": "code",
   "execution_count": null,
   "id": "e35bf987",
   "metadata": {},
   "outputs": [],
   "source": [
    "! pip install -U pip setuptools wheel"
   ]
  },
  {
   "cell_type": "code",
   "execution_count": null,
   "id": "dd11cd43",
   "metadata": {},
   "outputs": [],
   "source": [
    "! pip install -U spacy"
   ]
  },
  {
   "cell_type": "code",
   "execution_count": null,
   "id": "2d5a5379",
   "metadata": {},
   "outputs": [],
   "source": [
    "! python -m spacy download en_core_web_sm"
   ]
  },
  {
   "cell_type": "markdown",
   "id": "ad9f8369",
   "metadata": {},
   "source": [
    "### Using Set storage"
   ]
  },
  {
   "cell_type": "code",
   "execution_count": 1,
   "id": "f93a200e-8d0e-47f7-b34a-f64dfea9d298",
   "metadata": {},
   "outputs": [],
   "source": [
    "location_cuisine_map = {\n",
    "    \"indian\",\n",
    "    \"west indian\",\n",
    "    \"thai\",\n",
    "    \"sushi\",\n",
    "    \"chinese\",\n",
    "    \"carribean\",\n",
    "    \"italian\",\n",
    "    \"pub\",\n",
    "    \"bbq\",\n",
    "    \"portugese\",\n",
    "    \"spanish\",\n",
    "    \"french\",\n",
    "    \"east european\"\n",
    "}"
   ]
  },
  {
   "cell_type": "code",
   "execution_count": 2,
   "id": "b37c688d-ae4c-477d-9e3f-39a2196a9435",
   "metadata": {},
   "outputs": [],
   "source": [
    "import spacy    \n",
    "nlp = spacy.load(\"en_core_web_sm\")\n",
    "# given we aim to just match cuisines\n",
    "# hence we need to only match details related to food - \n",
    "# adding custom words to stop words to remove non-informational content\n",
    "# Since no-one would ever ask to go to a bad food place - it doesn't proide any informational detail\n",
    "# in queries about food - generally the following terms would be very frequent and thus carry less information \n",
    "# and have a significantly lower tf-idf value\n",
    "\n",
    "nlp.Defaults.stop_words |= {\"nice\",\"good\",\"like\", \"love\", \"i\", \"we\", \"me\", \"where\", \"how\", \"which\", \"when\", \"you\", \"u\", \"tell\", \"can\"}\n",
    "required_pattern = {\"food\", \"restaurants\", \"food-places\", \"hotels\", \"takeaway\", \"eatery\", \"pub\", \"eat\", \"drink\"}"
   ]
  },
  {
   "cell_type": "code",
   "execution_count": 3,
   "id": "01c222e5-b2c6-4d95-881f-f40ceb558c9a",
   "metadata": {},
   "outputs": [],
   "source": [
    "def generate_n_grams(n, word_list):\n",
    "    if not isinstance(word_list, list):\n",
    "        raise ValueError(\"Word list must be a list of words over which ngrams have to generated\")\n",
    "    ngrams = zip(*[word_list[i:] for i in range(n)]) # O(n)\n",
    "    return [\" \".join(ngram) for ngram in ngrams]"
   ]
  },
  {
   "cell_type": "code",
   "execution_count": 4,
   "id": "0a983e65",
   "metadata": {},
   "outputs": [],
   "source": [
    "def extract_relevant_terms(input_string):\n",
    "    # this is O(n)\n",
    "    data = [token.text.lower() for token in nlp(input_string) if token.text.lower() not in nlp.Defaults.stop_words]\n",
    "    \n",
    "    # O(n)\n",
    "    search_result = any(i for i in data if i in required_pattern)\n",
    "    if not search_result: return None\n",
    "    \n",
    "    queries = generate_n_grams(n=2, word_list=data)\n",
    "    return queries"
   ]
  },
  {
   "cell_type": "code",
   "execution_count": 5,
   "id": "45a5e2f3-5dd5-4780-9793-7acb3142168e",
   "metadata": {},
   "outputs": [],
   "source": [
    "\n",
    "def get_match(input_string):\n",
    "    \n",
    "    queries = extract_relevant_terms(input_string)\n",
    "    if not queries:\n",
    "        return None\n",
    "    \n",
    "    # worst case(o(n))\n",
    "    for query in queries:\n",
    "        if query in location_cuisine_map:\n",
    "            return input_string, query\n",
    "    return None"
   ]
  },
  {
   "cell_type": "code",
   "execution_count": 6,
   "id": "20182bf3-69fe-4a4c-8c1f-2391f7a79f6b",
   "metadata": {},
   "outputs": [
    {
     "name": "stdout",
     "output_type": "stream",
     "text": [
      "3.17 ms ± 308 µs per loop (mean ± std. dev. of 7 runs, 100 loops each)\n"
     ]
    }
   ],
   "source": [
    "%%timeit\n",
    "get_match(\"Which restaurants do West Indian food\")"
   ]
  },
  {
   "cell_type": "code",
   "execution_count": 7,
   "id": "b5683095",
   "metadata": {},
   "outputs": [
    {
     "data": {
      "text/plain": [
       "('Which restaurants do West Indian food', 'west indian')"
      ]
     },
     "execution_count": 7,
     "metadata": {},
     "output_type": "execute_result"
    }
   ],
   "source": [
    "get_match(\"Which restaurants do West Indian food\")"
   ]
  },
  {
   "cell_type": "code",
   "execution_count": 8,
   "id": "d25ffcc7",
   "metadata": {},
   "outputs": [
    {
     "name": "stdout",
     "output_type": "stream",
     "text": [
      "2.86 ms ± 47.1 µs per loop (mean ± std. dev. of 7 runs, 100 loops each)\n"
     ]
    }
   ],
   "source": [
    "%%timeit\n",
    "get_match(\"What is the weather today\")"
   ]
  },
  {
   "cell_type": "code",
   "execution_count": 9,
   "id": "36b91d70",
   "metadata": {},
   "outputs": [],
   "source": [
    "get_match(\"What is the weather today\")"
   ]
  },
  {
   "cell_type": "code",
   "execution_count": 10,
   "id": "3d8617a3",
   "metadata": {},
   "outputs": [],
   "source": [
    "import sys"
   ]
  },
  {
   "cell_type": "code",
   "execution_count": 11,
   "id": "daaa4ccf",
   "metadata": {},
   "outputs": [
    {
     "data": {
      "text/plain": [
       "744"
      ]
     },
     "execution_count": 11,
     "metadata": {},
     "output_type": "execute_result"
    }
   ],
   "source": [
    "sys.getsizeof(location_cuisine_map)"
   ]
  },
  {
   "cell_type": "markdown",
   "id": "ef7233da",
   "metadata": {},
   "source": [
    "# Bloom Filter"
   ]
  },
  {
   "cell_type": "markdown",
   "id": "9991f132",
   "metadata": {},
   "source": [
    "1. once uttered, you generally want to remember the utterances. Elements once added in the bloomfilter cannot be removed, unless we use an invertible bloom filter (this can be implemented with more ease using a list)\n",
    "2.  A bloom filter can have fale positives but no false negatives. In this situation, we can afford false positives because in a query of food, we can generally be given all related options\n",
    "3. Once added, elements cannot be removed from the bloom filter - which again serves our purpose. You wouldn't remove data added to cuisine map generally\n"
   ]
  },
  {
   "cell_type": "markdown",
   "id": "54ecb015",
   "metadata": {},
   "source": [
    "#### Trying to optimize space a little"
   ]
  },
  {
   "cell_type": "code",
   "execution_count": 12,
   "id": "3bdf2e49",
   "metadata": {},
   "outputs": [],
   "source": [
    "import sys"
   ]
  },
  {
   "cell_type": "code",
   "execution_count": 13,
   "id": "15f60636",
   "metadata": {},
   "outputs": [],
   "source": [
    "set_data = set()\n",
    "dict_data = dict()\n",
    "list_data = list()\n",
    "tuple_data = tuple()"
   ]
  },
  {
   "cell_type": "code",
   "execution_count": 14,
   "id": "5ac90c5f",
   "metadata": {},
   "outputs": [
    {
     "data": {
      "text/plain": [
       "72"
      ]
     },
     "execution_count": 14,
     "metadata": {},
     "output_type": "execute_result"
    }
   ],
   "source": [
    "sys.getsizeof(list_data)"
   ]
  },
  {
   "cell_type": "code",
   "execution_count": 15,
   "id": "93ae5e6f",
   "metadata": {},
   "outputs": [
    {
     "data": {
      "text/plain": [
       "232"
      ]
     },
     "execution_count": 15,
     "metadata": {},
     "output_type": "execute_result"
    }
   ],
   "source": [
    "sys.getsizeof(set_data)"
   ]
  },
  {
   "cell_type": "code",
   "execution_count": 16,
   "id": "ac01fa67",
   "metadata": {},
   "outputs": [
    {
     "data": {
      "text/plain": [
       "248"
      ]
     },
     "execution_count": 16,
     "metadata": {},
     "output_type": "execute_result"
    }
   ],
   "source": [
    "sys.getsizeof(dict_data)"
   ]
  },
  {
   "cell_type": "code",
   "execution_count": 17,
   "id": "043c25da",
   "metadata": {},
   "outputs": [
    {
     "data": {
      "text/plain": [
       "56"
      ]
     },
     "execution_count": 17,
     "metadata": {},
     "output_type": "execute_result"
    }
   ],
   "source": [
    "sys.getsizeof(tuple_data)"
   ]
  },
  {
   "cell_type": "markdown",
   "id": "98b25404",
   "metadata": {},
   "source": [
    "### Memory Details for a bloom filter and choice of data structure\n",
    "\n",
    "- traditionally bloomfilter is a bitarray. We can use a list here to construct a bloom filter. The size of the filter (no. of sparse spaces in the filter and the number of elements in the filter) is directly proportional to the risk of collision in the filter\n",
    "- I assume here that space is not a limitation. As shown below, a list should take about 8MB for 1 million strings. Given list uses heap memory - using it for implementing a bloom filter should be okay.\n",
    "\n",
    "- Both list and tuple give same memory in terms of storing large number of string. We use list for the ease of adding elements to the bloom filter."
   ]
  },
  {
   "cell_type": "code",
   "execution_count": 18,
   "id": "ea23d7b7",
   "metadata": {},
   "outputs": [],
   "source": [
    "\n",
    "list_data = ['arandondomverylongsensentencefor memory check'] *1000000\n",
    "tuple_data = tuple(list_data)"
   ]
  },
  {
   "cell_type": "code",
   "execution_count": 19,
   "id": "478becd6",
   "metadata": {},
   "outputs": [
    {
     "data": {
      "text/plain": [
       "8.000055999999999"
      ]
     },
     "execution_count": 19,
     "metadata": {},
     "output_type": "execute_result"
    }
   ],
   "source": [
    "sys.getsizeof(tuple_data)*0.000001 # 8MB - original value of getszeof is in bytes"
   ]
  },
  {
   "cell_type": "code",
   "execution_count": 20,
   "id": "57ff4491",
   "metadata": {},
   "outputs": [
    {
     "data": {
      "text/plain": [
       "8.000072"
      ]
     },
     "execution_count": 20,
     "metadata": {},
     "output_type": "execute_result"
    }
   ],
   "source": [
    "sys.getsizeof(list_data)*0.000001 "
   ]
  },
  {
   "cell_type": "markdown",
   "id": "359716ad",
   "metadata": {},
   "source": [
    "### Other details about BloomFilter\n",
    "\n",
    "\n",
    "1. False Positive Probablity - Given the size of filter m, and number of elements n- the false positive probablity is given by - \n",
    "\n",
    "$$P = (1 - [1 - \\frac 1 m]^{kn})^k$$\n",
    "\n",
    "2. Optimal Size of the filter: Given desired probablity of false positives and n being the number of elements that are to be placed in the filter, we have:\n",
    "\n",
    "$$m = -\\frac{n\\ln p}{(\\ln 2)^2}$$\n",
    "\n",
    "3. No. of hash functions: Given a filter of size m and we have n elements to be inserted, the optimal number for hash functions is:  \n",
    "\n",
    "$$k = \\frac{m} {n}\\ln2$$\n",
    "\n",
    "4. We need fast independent hash functions which are uniformly distributed. Here I am using mm3. We can also create multiple hash functions using md5, sha1 and sha224 - however these can be computationally expensive"
   ]
  },
  {
   "cell_type": "code",
   "execution_count": 19,
   "id": "3ed36e00",
   "metadata": {},
   "outputs": [
    {
     "name": "stdout",
     "output_type": "stream",
     "text": [
      "Requirement already satisfied: mmh3 in /opt/miniconda3/envs/ptest/lib/python3.7/site-packages (3.0.0)\r\n"
     ]
    }
   ],
   "source": [
    "! pip install mmh3"
   ]
  },
  {
   "cell_type": "code",
   "execution_count": 21,
   "id": "1a2ea3a5",
   "metadata": {},
   "outputs": [],
   "source": [
    "from dsa.bloom_filter import BloomFilter"
   ]
  },
  {
   "cell_type": "code",
   "execution_count": 22,
   "id": "ef5d1c60",
   "metadata": {},
   "outputs": [],
   "source": [
    "n = len(location_cuisine_map)\n",
    "p = 0.01"
   ]
  },
  {
   "cell_type": "code",
   "execution_count": 23,
   "id": "29c1205a",
   "metadata": {},
   "outputs": [],
   "source": [
    "blf = BloomFilter(n=n, p=p)"
   ]
  },
  {
   "cell_type": "code",
   "execution_count": 24,
   "id": "8e11baa6",
   "metadata": {},
   "outputs": [],
   "source": [
    "location_cuisine_map = {\n",
    "    \"indian\",\n",
    "    \"west indian\",\n",
    "    \"thai\",\n",
    "    \"sushi\",\n",
    "    \"chinese\",\n",
    "    \"carribean\",\n",
    "    \"italian\",\n",
    "    \"pub\",\n",
    "    \"bbq\",\n",
    "    \"portugese\",\n",
    "    \"spanish\",\n",
    "    \"french\",\n",
    "    \"east european\"\n",
    "}\n",
    "\n",
    "\n",
    "for item in location_cuisine_map:\n",
    "    blf.insert(item)"
   ]
  },
  {
   "cell_type": "code",
   "execution_count": 25,
   "id": "835b0caa",
   "metadata": {},
   "outputs": [
    {
     "data": {
      "text/plain": [
       "0.001064"
      ]
     },
     "execution_count": 25,
     "metadata": {},
     "output_type": "execute_result"
    }
   ],
   "source": [
    "sys.getsizeof(blf.filter)* 0.000001 \n",
    "# size around 150 MB for one million \n",
    "# words with 0.01 probability for false negatives"
   ]
  },
  {
   "cell_type": "code",
   "execution_count": 26,
   "id": "5c3688b9",
   "metadata": {},
   "outputs": [],
   "source": [
    "def check_filter(input_string):\n",
    "    queries = extract_relevant_terms(input_string)\n",
    "    if not queries:\n",
    "        return None\n",
    "    \n",
    "    # worst case(o(n))\n",
    "    for query in queries:\n",
    "        if blf.is_present(query):\n",
    "            return input_string, query\n",
    "    return None"
   ]
  },
  {
   "cell_type": "code",
   "execution_count": 27,
   "id": "3f277840",
   "metadata": {},
   "outputs": [
    {
     "name": "stdout",
     "output_type": "stream",
     "text": [
      "3.28 ms ± 256 µs per loop (mean ± std. dev. of 7 runs, 100 loops each)\n"
     ]
    }
   ],
   "source": [
    "%%timeit\n",
    "result = check_filter(\"Which restaurants do West Indian food\")"
   ]
  },
  {
   "cell_type": "code",
   "execution_count": 31,
   "id": "a423efad",
   "metadata": {},
   "outputs": [
    {
     "data": {
      "text/plain": [
       "('Which restaurants do West Indian food', 'west indian')"
      ]
     },
     "execution_count": 31,
     "metadata": {},
     "output_type": "execute_result"
    }
   ],
   "source": [
    "check_filter(\"Which restaurants do West Indian food\")"
   ]
  },
  {
   "cell_type": "code",
   "execution_count": 29,
   "id": "f6cf1f30",
   "metadata": {},
   "outputs": [
    {
     "name": "stdout",
     "output_type": "stream",
     "text": [
      "3.28 ms ± 250 µs per loop (mean ± std. dev. of 7 runs, 100 loops each)\n"
     ]
    }
   ],
   "source": [
    "%%timeit\n",
    "check_filter(\"What is the weather today\")"
   ]
  },
  {
   "cell_type": "code",
   "execution_count": 30,
   "id": "33f5569d",
   "metadata": {},
   "outputs": [],
   "source": [
    "check_filter(\"What is the weather today\")"
   ]
  },
  {
   "cell_type": "markdown",
   "id": "5489ef6f",
   "metadata": {},
   "source": [
    "I think Bloom Filter gives benefits in memory with speed comparable to hash map look up"
   ]
  },
  {
   "cell_type": "code",
   "execution_count": 31,
   "id": "3b73a3bd",
   "metadata": {},
   "outputs": [
    {
     "data": {
      "text/plain": [
       "1"
      ]
     },
     "execution_count": 31,
     "metadata": {},
     "output_type": "execute_result"
    }
   ],
   "source": [
    "BloomFilter.num_hashes(size=10, n=5)"
   ]
  },
  {
   "cell_type": "code",
   "execution_count": 32,
   "id": "3c95770b",
   "metadata": {},
   "outputs": [
    {
     "data": {
      "text/plain": [
       "28"
      ]
     },
     "execution_count": 32,
     "metadata": {},
     "output_type": "execute_result"
    }
   ],
   "source": [
    "BloomFilter.get_length(n=10, p=0.25)"
   ]
  },
  {
   "cell_type": "code",
   "execution_count": 42,
   "id": "3819bcb0",
   "metadata": {},
   "outputs": [],
   "source": [
    "blf = BloomFilter(n=3, p=0.1)\n",
    "blf.insert(\"Gondor\")"
   ]
  },
  {
   "cell_type": "code",
   "execution_count": 46,
   "id": "c569402e",
   "metadata": {},
   "outputs": [
    {
     "data": {
      "text/plain": [
       "False"
      ]
     },
     "execution_count": 46,
     "metadata": {},
     "output_type": "execute_result"
    }
   ],
   "source": [
    "blf.is_present(\"Isenguard\")"
   ]
  },
  {
   "cell_type": "code",
   "execution_count": null,
   "id": "e046b46c",
   "metadata": {},
   "outputs": [],
   "source": []
  }
 ],
 "metadata": {
  "kernelspec": {
   "display_name": "Python 3",
   "language": "python",
   "name": "python3"
  },
  "language_info": {
   "codemirror_mode": {
    "name": "ipython",
    "version": 3
   },
   "file_extension": ".py",
   "mimetype": "text/x-python",
   "name": "python",
   "nbconvert_exporter": "python",
   "pygments_lexer": "ipython3",
   "version": "3.7.10"
  }
 },
 "nbformat": 4,
 "nbformat_minor": 5
}
