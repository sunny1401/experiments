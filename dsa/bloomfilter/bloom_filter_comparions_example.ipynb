{
 "cells": [
  {
   "cell_type": "code",
   "execution_count": null,
   "id": "e35bf987",
   "metadata": {},
   "outputs": [],
   "source": [
    "! pip install -U pip setuptools wheel"
   ]
  },
  {
   "cell_type": "code",
   "execution_count": null,
   "id": "dd11cd43",
   "metadata": {},
   "outputs": [],
   "source": [
    "! pip install -U spacy"
   ]
  },
  {
   "cell_type": "code",
   "execution_count": null,
   "id": "2d5a5379",
   "metadata": {},
   "outputs": [],
   "source": [
    "! python -m spacy download en_core_web_sm"
   ]
  },
  {
   "cell_type": "code",
   "execution_count": null,
   "id": "762b48d5",
   "metadata": {},
   "outputs": [],
   "source": [
    "! pip install bitarray"
   ]
  },
  {
   "cell_type": "code",
   "execution_count": null,
   "id": "1b4dc36c",
   "metadata": {},
   "outputs": [],
   "source": [
    "! pip install mmh3"
   ]
  },
  {
   "cell_type": "code",
   "execution_count": 1,
   "id": "1304548b",
   "metadata": {},
   "outputs": [],
   "source": [
    "import spacy    \n",
    "nlp = spacy.load(\"en_core_web_sm\")\n",
    "# working with food (like a fixed set or something)\n",
    "# adding custom words to stop words to remove non-informational content\n",
    "# Since no-one would ever ask to go to a bad food place - it doesn't proide any informational detail\n",
    "# in queries about food - generally the following terms would be very frequent and thus carry less information and have a significantly lower tf-idf value\n",
    "\n",
    "nlp.Defaults.stop_words |= {\"nice\",\"good\",\"like\", \"love\", \"i\", \"we\", \"me\", \"where\", \"how\", \"which\", \"when\", \"you\", \"u\", \"tell\", \"can\"}\n",
    "required_pattern = {\"food\", \"restaurants\", \"food-places\", \"hotels\", \"takeaway\", \"eatery\", \"pub\", \"eat\", \"drink\"}"
   ]
  },
  {
   "cell_type": "code",
   "execution_count": 2,
   "id": "b66f04d8",
   "metadata": {},
   "outputs": [
    {
     "data": {
      "text/plain": [
       "{\"'d\",\n",
       " \"'ll\",\n",
       " \"'m\",\n",
       " \"'re\",\n",
       " \"'s\",\n",
       " \"'ve\",\n",
       " 'a',\n",
       " 'about',\n",
       " 'above',\n",
       " 'across',\n",
       " 'after',\n",
       " 'afterwards',\n",
       " 'again',\n",
       " 'against',\n",
       " 'all',\n",
       " 'almost',\n",
       " 'alone',\n",
       " 'along',\n",
       " 'already',\n",
       " 'also',\n",
       " 'although',\n",
       " 'always',\n",
       " 'am',\n",
       " 'among',\n",
       " 'amongst',\n",
       " 'amount',\n",
       " 'an',\n",
       " 'and',\n",
       " 'another',\n",
       " 'any',\n",
       " 'anyhow',\n",
       " 'anyone',\n",
       " 'anything',\n",
       " 'anyway',\n",
       " 'anywhere',\n",
       " 'are',\n",
       " 'around',\n",
       " 'as',\n",
       " 'at',\n",
       " 'back',\n",
       " 'be',\n",
       " 'became',\n",
       " 'because',\n",
       " 'become',\n",
       " 'becomes',\n",
       " 'becoming',\n",
       " 'been',\n",
       " 'before',\n",
       " 'beforehand',\n",
       " 'behind',\n",
       " 'being',\n",
       " 'below',\n",
       " 'beside',\n",
       " 'besides',\n",
       " 'between',\n",
       " 'beyond',\n",
       " 'both',\n",
       " 'bottom',\n",
       " 'but',\n",
       " 'by',\n",
       " 'ca',\n",
       " 'call',\n",
       " 'can',\n",
       " 'cannot',\n",
       " 'could',\n",
       " 'did',\n",
       " 'do',\n",
       " 'does',\n",
       " 'doing',\n",
       " 'done',\n",
       " 'down',\n",
       " 'due',\n",
       " 'during',\n",
       " 'each',\n",
       " 'eight',\n",
       " 'either',\n",
       " 'eleven',\n",
       " 'else',\n",
       " 'elsewhere',\n",
       " 'empty',\n",
       " 'enough',\n",
       " 'even',\n",
       " 'ever',\n",
       " 'every',\n",
       " 'everyone',\n",
       " 'everything',\n",
       " 'everywhere',\n",
       " 'except',\n",
       " 'few',\n",
       " 'fifteen',\n",
       " 'fifty',\n",
       " 'first',\n",
       " 'five',\n",
       " 'for',\n",
       " 'former',\n",
       " 'formerly',\n",
       " 'forty',\n",
       " 'four',\n",
       " 'from',\n",
       " 'front',\n",
       " 'full',\n",
       " 'further',\n",
       " 'get',\n",
       " 'give',\n",
       " 'go',\n",
       " 'good',\n",
       " 'had',\n",
       " 'has',\n",
       " 'have',\n",
       " 'he',\n",
       " 'hence',\n",
       " 'her',\n",
       " 'here',\n",
       " 'hereafter',\n",
       " 'hereby',\n",
       " 'herein',\n",
       " 'hereupon',\n",
       " 'hers',\n",
       " 'herself',\n",
       " 'him',\n",
       " 'himself',\n",
       " 'his',\n",
       " 'how',\n",
       " 'however',\n",
       " 'hundred',\n",
       " 'i',\n",
       " 'if',\n",
       " 'in',\n",
       " 'indeed',\n",
       " 'into',\n",
       " 'is',\n",
       " 'it',\n",
       " 'its',\n",
       " 'itself',\n",
       " 'just',\n",
       " 'keep',\n",
       " 'last',\n",
       " 'latter',\n",
       " 'latterly',\n",
       " 'least',\n",
       " 'less',\n",
       " 'like',\n",
       " 'love',\n",
       " 'made',\n",
       " 'make',\n",
       " 'many',\n",
       " 'may',\n",
       " 'me',\n",
       " 'meanwhile',\n",
       " 'might',\n",
       " 'mine',\n",
       " 'more',\n",
       " 'moreover',\n",
       " 'most',\n",
       " 'mostly',\n",
       " 'move',\n",
       " 'much',\n",
       " 'must',\n",
       " 'my',\n",
       " 'myself',\n",
       " \"n't\",\n",
       " 'name',\n",
       " 'namely',\n",
       " 'neither',\n",
       " 'never',\n",
       " 'nevertheless',\n",
       " 'next',\n",
       " 'nice',\n",
       " 'nine',\n",
       " 'no',\n",
       " 'nobody',\n",
       " 'none',\n",
       " 'noone',\n",
       " 'nor',\n",
       " 'not',\n",
       " 'nothing',\n",
       " 'now',\n",
       " 'nowhere',\n",
       " 'n‘t',\n",
       " 'n’t',\n",
       " 'of',\n",
       " 'off',\n",
       " 'often',\n",
       " 'on',\n",
       " 'once',\n",
       " 'one',\n",
       " 'only',\n",
       " 'onto',\n",
       " 'or',\n",
       " 'other',\n",
       " 'others',\n",
       " 'otherwise',\n",
       " 'our',\n",
       " 'ours',\n",
       " 'ourselves',\n",
       " 'out',\n",
       " 'over',\n",
       " 'own',\n",
       " 'part',\n",
       " 'per',\n",
       " 'perhaps',\n",
       " 'please',\n",
       " 'put',\n",
       " 'quite',\n",
       " 'rather',\n",
       " 're',\n",
       " 'really',\n",
       " 'regarding',\n",
       " 'same',\n",
       " 'say',\n",
       " 'see',\n",
       " 'seem',\n",
       " 'seemed',\n",
       " 'seeming',\n",
       " 'seems',\n",
       " 'serious',\n",
       " 'several',\n",
       " 'she',\n",
       " 'should',\n",
       " 'show',\n",
       " 'side',\n",
       " 'since',\n",
       " 'six',\n",
       " 'sixty',\n",
       " 'so',\n",
       " 'some',\n",
       " 'somehow',\n",
       " 'someone',\n",
       " 'something',\n",
       " 'sometime',\n",
       " 'sometimes',\n",
       " 'somewhere',\n",
       " 'still',\n",
       " 'such',\n",
       " 'take',\n",
       " 'tell',\n",
       " 'ten',\n",
       " 'than',\n",
       " 'that',\n",
       " 'the',\n",
       " 'their',\n",
       " 'them',\n",
       " 'themselves',\n",
       " 'then',\n",
       " 'thence',\n",
       " 'there',\n",
       " 'thereafter',\n",
       " 'thereby',\n",
       " 'therefore',\n",
       " 'therein',\n",
       " 'thereupon',\n",
       " 'these',\n",
       " 'they',\n",
       " 'third',\n",
       " 'this',\n",
       " 'those',\n",
       " 'though',\n",
       " 'three',\n",
       " 'through',\n",
       " 'throughout',\n",
       " 'thru',\n",
       " 'thus',\n",
       " 'to',\n",
       " 'together',\n",
       " 'too',\n",
       " 'top',\n",
       " 'toward',\n",
       " 'towards',\n",
       " 'twelve',\n",
       " 'twenty',\n",
       " 'two',\n",
       " 'u',\n",
       " 'under',\n",
       " 'unless',\n",
       " 'until',\n",
       " 'up',\n",
       " 'upon',\n",
       " 'us',\n",
       " 'used',\n",
       " 'using',\n",
       " 'various',\n",
       " 'very',\n",
       " 'via',\n",
       " 'was',\n",
       " 'we',\n",
       " 'well',\n",
       " 'were',\n",
       " 'what',\n",
       " 'whatever',\n",
       " 'when',\n",
       " 'whence',\n",
       " 'whenever',\n",
       " 'where',\n",
       " 'whereafter',\n",
       " 'whereas',\n",
       " 'whereby',\n",
       " 'wherein',\n",
       " 'whereupon',\n",
       " 'wherever',\n",
       " 'whether',\n",
       " 'which',\n",
       " 'while',\n",
       " 'whither',\n",
       " 'who',\n",
       " 'whoever',\n",
       " 'whole',\n",
       " 'whom',\n",
       " 'whose',\n",
       " 'why',\n",
       " 'will',\n",
       " 'with',\n",
       " 'within',\n",
       " 'without',\n",
       " 'would',\n",
       " 'yet',\n",
       " 'you',\n",
       " 'your',\n",
       " 'yours',\n",
       " 'yourself',\n",
       " 'yourselves',\n",
       " '‘d',\n",
       " '‘ll',\n",
       " '‘m',\n",
       " '‘re',\n",
       " '‘s',\n",
       " '‘ve',\n",
       " '’d',\n",
       " '’ll',\n",
       " '’m',\n",
       " '’re',\n",
       " '’s',\n",
       " '’ve'}"
      ]
     },
     "execution_count": 2,
     "metadata": {},
     "output_type": "execute_result"
    }
   ],
   "source": [
    "nlp.Defaults.stop_words"
   ]
  },
  {
   "cell_type": "code",
   "execution_count": 11,
   "id": "c756b8e5",
   "metadata": {},
   "outputs": [],
   "source": [
    "def generate_n_grams(n, word_list):\n",
    "    if not isinstance(word_list, list):\n",
    "        raise ValueError(\"Word list must be a list of words over which ngrams have to generated\")\n",
    "    ngrams = zip(*[word_list[i:] for i in range(n)]) # O(n)\n",
    "    return [\" \".join(ngram) for ngram in ngrams]"
   ]
  },
  {
   "cell_type": "code",
   "execution_count": 9,
   "id": "4fb27394",
   "metadata": {},
   "outputs": [],
   "source": [
    "def extract_relevant_terms(input_string):\n",
    "    # this is O(n)\n",
    "    data = [token.text.lower() for token in nlp(input_string) if token.text.lower() not in nlp.Defaults.stop_words]\n",
    "    \n",
    "    # O(n)\n",
    "    search_result = any(i for i in data if i in required_pattern)\n",
    "    if not search_result: return None\n",
    "    \n",
    "    queries = generate_n_grams(n=2, word_list=data)\n",
    "    return queries"
   ]
  },
  {
   "cell_type": "markdown",
   "id": "abf8b67b",
   "metadata": {},
   "source": [
    "### Using Set storage"
   ]
  },
  {
   "cell_type": "code",
   "execution_count": 2,
   "id": "f93a200e-8d0e-47f7-b34a-f64dfea9d298",
   "metadata": {},
   "outputs": [],
   "source": [
    "location_cuisine_map = {\n",
    "    \"indian\",\n",
    "    \"west indian\",\n",
    "    \"thai\",\n",
    "    \"sushi\",\n",
    "    \"chinese\",\n",
    "    \"carribean\",\n",
    "    \"italian\",\n",
    "    \"pub\",\n",
    "    \"bbq\",\n",
    "    \"portugese\",\n",
    "    \"spanish\",\n",
    "    \"french\",\n",
    "    \"east european\"\n",
    "}"
   ]
  },
  {
   "cell_type": "code",
   "execution_count": 6,
   "id": "45a5e2f3-5dd5-4780-9793-7acb3142168e",
   "metadata": {},
   "outputs": [],
   "source": [
    "\n",
    "def get_match(input_string):\n",
    "    \n",
    "    queries = extract_relevant_terms(input_string)\n",
    "    if not queries:\n",
    "        return None\n",
    "    \n",
    "    # worst case(o(n))\n",
    "    for query in queries:\n",
    "        if query in location_cuisine_map:\n",
    "            return input_string, query\n",
    "    return None"
   ]
  },
  {
   "cell_type": "code",
   "execution_count": 7,
   "id": "20182bf3-69fe-4a4c-8c1f-2391f7a79f6b",
   "metadata": {},
   "outputs": [
    {
     "name": "stdout",
     "output_type": "stream",
     "text": [
      "3.11 ms ± 85.2 µs per loop (mean ± std. dev. of 7 runs, 100 loops each)\n"
     ]
    }
   ],
   "source": [
    "%%timeit\n",
    "get_match(\"Which restaurants do West Indian food\")"
   ]
  },
  {
   "cell_type": "code",
   "execution_count": 8,
   "id": "89281f58",
   "metadata": {},
   "outputs": [
    {
     "data": {
      "text/plain": [
       "('Which restaurants do West Indian food', 'west indian')"
      ]
     },
     "execution_count": 8,
     "metadata": {},
     "output_type": "execute_result"
    }
   ],
   "source": [
    "get_match(\"Which restaurants do West Indian food\")"
   ]
  },
  {
   "cell_type": "code",
   "execution_count": 9,
   "id": "d25ffcc7",
   "metadata": {},
   "outputs": [
    {
     "name": "stdout",
     "output_type": "stream",
     "text": [
      "3.08 ms ± 274 µs per loop (mean ± std. dev. of 7 runs, 100 loops each)\n"
     ]
    }
   ],
   "source": [
    "%%timeit\n",
    "get_match(\"What is the weather today\")"
   ]
  },
  {
   "cell_type": "code",
   "execution_count": 10,
   "id": "bc0ca6cb",
   "metadata": {},
   "outputs": [],
   "source": [
    "get_match(\"What is the weather today\")"
   ]
  },
  {
   "cell_type": "code",
   "execution_count": 11,
   "id": "3d8617a3",
   "metadata": {},
   "outputs": [],
   "source": [
    "import sys"
   ]
  },
  {
   "cell_type": "code",
   "execution_count": 12,
   "id": "c93c68b0",
   "metadata": {},
   "outputs": [
    {
     "data": {
      "text/plain": [
       "744"
      ]
     },
     "execution_count": 12,
     "metadata": {},
     "output_type": "execute_result"
    }
   ],
   "source": [
    "sys.getsizeof(location_cuisine_map)"
   ]
  },
  {
   "cell_type": "markdown",
   "id": "ef7233da",
   "metadata": {},
   "source": [
    "# Bloom Filter"
   ]
  },
  {
   "cell_type": "markdown",
   "id": "9991f132",
   "metadata": {},
   "source": [
    "1. once uttered, you generally want to remember the utterances. Elements once added in the bloomfilter cannot be removed, unless we use an invertible bloom filter (this can be implemented with more ease using a list)\n",
    "2.  A bloom filter can have fale positives but no false negatives. In this situation, we can afford false positives because in a query of food, we can generally be given all related options\n",
    "3. Once added, elements cannot be removed from the bloom filter - which again serves our purpose. You wouldn't remove data added to cuisine map generally\n"
   ]
  },
  {
   "cell_type": "markdown",
   "id": "54ecb015",
   "metadata": {},
   "source": [
    "#### Trying to optimize space a little"
   ]
  },
  {
   "cell_type": "code",
   "execution_count": 1,
   "id": "3bdf2e49",
   "metadata": {},
   "outputs": [],
   "source": [
    "import sys"
   ]
  },
  {
   "cell_type": "code",
   "execution_count": 2,
   "id": "15f60636",
   "metadata": {},
   "outputs": [],
   "source": [
    "set_data = set()\n",
    "dict_data = dict()\n",
    "list_data = list()\n",
    "tuple_data = tuple()"
   ]
  },
  {
   "cell_type": "code",
   "execution_count": 3,
   "id": "5ac90c5f",
   "metadata": {},
   "outputs": [
    {
     "data": {
      "text/plain": [
       "72"
      ]
     },
     "execution_count": 3,
     "metadata": {},
     "output_type": "execute_result"
    }
   ],
   "source": [
    "sys.getsizeof(list_data)"
   ]
  },
  {
   "cell_type": "code",
   "execution_count": 4,
   "id": "93ae5e6f",
   "metadata": {},
   "outputs": [
    {
     "data": {
      "text/plain": [
       "232"
      ]
     },
     "execution_count": 4,
     "metadata": {},
     "output_type": "execute_result"
    }
   ],
   "source": [
    "sys.getsizeof(set_data)"
   ]
  },
  {
   "cell_type": "code",
   "execution_count": 5,
   "id": "ac01fa67",
   "metadata": {},
   "outputs": [
    {
     "data": {
      "text/plain": [
       "248"
      ]
     },
     "execution_count": 5,
     "metadata": {},
     "output_type": "execute_result"
    }
   ],
   "source": [
    "sys.getsizeof(dict_data)"
   ]
  },
  {
   "cell_type": "code",
   "execution_count": 6,
   "id": "043c25da",
   "metadata": {},
   "outputs": [
    {
     "data": {
      "text/plain": [
       "56"
      ]
     },
     "execution_count": 6,
     "metadata": {},
     "output_type": "execute_result"
    }
   ],
   "source": [
    "sys.getsizeof(tuple_data)"
   ]
  },
  {
   "cell_type": "markdown",
   "id": "98b25404",
   "metadata": {},
   "source": [
    "### Memory Details for a bloom filter and choice of data structure\n",
    "\n",
    "- traditionally bloomfilter is a bitarray. We can use a list here to construct a bloom filter. The size of the filter (no. of sparse spaces in the filter and the number of elements in the filter) is directly proportional to the risk of collision in the filter\n",
    "- I assume here that space is not a limitation. As shown below, a list should take about 8MB for 1 million strings. Given list uses heap memory - using it for implementing a bloom filter should be okay.\n",
    "\n",
    "- Both list and tuple give same memory in terms of storing large number of string. We use list for the ease of adding elements to the bloom filter."
   ]
  },
  {
   "cell_type": "code",
   "execution_count": 7,
   "id": "ea23d7b7",
   "metadata": {},
   "outputs": [],
   "source": [
    "\n",
    "list_data = [f'arandondomverylongsensentencefor memory check {i}' for i in range(0, 1000000)]\n",
    "tuple_data = tuple(list_data)"
   ]
  },
  {
   "cell_type": "code",
   "execution_count": 8,
   "id": "478becd6",
   "metadata": {},
   "outputs": [
    {
     "data": {
      "text/plain": [
       "8.000055999999999"
      ]
     },
     "execution_count": 8,
     "metadata": {},
     "output_type": "execute_result"
    }
   ],
   "source": [
    "sys.getsizeof(tuple_data)*0.000001 # 8MB - original value of getszeof is in bytes"
   ]
  },
  {
   "cell_type": "code",
   "execution_count": 9,
   "id": "57ff4491",
   "metadata": {},
   "outputs": [
    {
     "data": {
      "text/plain": [
       "8.697472"
      ]
     },
     "execution_count": 9,
     "metadata": {},
     "output_type": "execute_result"
    }
   ],
   "source": [
    "sys.getsizeof(list_data)*0.000001 "
   ]
  },
  {
   "cell_type": "code",
   "execution_count": 4,
   "id": "1a2ea3a5",
   "metadata": {},
   "outputs": [],
   "source": [
    "from .bloom_filter import BloomFilter"
   ]
  },
  {
   "cell_type": "code",
   "execution_count": 11,
   "id": "ef5d1c60",
   "metadata": {},
   "outputs": [],
   "source": [
    "n = 1000000\n",
    "p = 0.09"
   ]
  },
  {
   "cell_type": "code",
   "execution_count": 12,
   "id": "23344911",
   "metadata": {},
   "outputs": [],
   "source": [
    "blf = BloomFilter(n=n, p=p, data_type=\"list\")"
   ]
  },
  {
   "cell_type": "code",
   "execution_count": 13,
   "id": "72e429c9",
   "metadata": {},
   "outputs": [],
   "source": [
    "for i in range(0, 1000000):\n",
    "    blf.insert(f'arandondomverylongsensentencefor memory check {i}')"
   ]
  },
  {
   "cell_type": "code",
   "execution_count": 14,
   "id": "9e6c5be9",
   "metadata": {
    "scrolled": true
   },
   "outputs": [
    {
     "data": {
      "text/plain": [
       "40.094656"
      ]
     },
     "execution_count": 14,
     "metadata": {},
     "output_type": "execute_result"
    }
   ],
   "source": [
    "blf.get_size_of_filter() # value heavily dependent on p and n\n",
    "# look up time is o(1)\n",
    "# for n == 1000000, p=0.09 the actual length of the filter is 5011823"
   ]
  },
  {
   "cell_type": "code",
   "execution_count": 15,
   "id": "eb2f7afa",
   "metadata": {},
   "outputs": [],
   "source": [
    "# comparison with set\n",
    "for i in range(0, 1000000):\n",
    "    set_data.add(f'arandondomverylongsensentencefor memory check {i}')"
   ]
  },
  {
   "cell_type": "code",
   "execution_count": 16,
   "id": "381f762d",
   "metadata": {},
   "outputs": [
    {
     "data": {
      "text/plain": [
       "33.554663999999995"
      ]
     },
     "execution_count": 16,
     "metadata": {},
     "output_type": "execute_result"
    }
   ],
   "source": [
    "sys.getsizeof(set_data) * 0.000001"
   ]
  },
  {
   "cell_type": "markdown",
   "id": "228bddd9",
   "metadata": {},
   "source": [
    "However, if we use a bitarray as the datatype - the memory usage becomes negligible. This is because cpyton uses additional memory for its objects - as can be seen by memory associated with empty objects"
   ]
  },
  {
   "cell_type": "code",
   "execution_count": 17,
   "id": "a8fb45a9",
   "metadata": {},
   "outputs": [],
   "source": [
    "# by default it uses bitarray\n",
    "n = 1000000\n",
    "p = 0.01\n",
    "blf = BloomFilter(n=n, p=p)\n",
    "for i in range(0, 1000000):\n",
    "    blf.insert(f'arandondomverylongsensentencefor memory check {i}')"
   ]
  },
  {
   "cell_type": "code",
   "execution_count": 18,
   "id": "f4c999dc",
   "metadata": {},
   "outputs": [
    {
     "data": {
      "text/plain": [
       "0.6265419999999999"
      ]
     },
     "execution_count": 18,
     "metadata": {},
     "output_type": "execute_result"
    }
   ],
   "source": [
    "blf.get_size_of_filter()"
   ]
  },
  {
   "cell_type": "markdown",
   "id": "9ccd61ee",
   "metadata": {},
   "source": [
    "\n",
    "From the above comparison - it can be seen that bitarray is a great choice if we want to search for elements in a huge group. It is optimized in memory and gives o(1) speed."
   ]
  },
  {
   "cell_type": "markdown",
   "id": "94b15c12",
   "metadata": {},
   "source": [
    "### Other details about BloomFilter\n",
    "\n",
    "\n",
    "1. False Positive Probablity - Given the size of filter m, and number of elements n- the false positive probablity is given by - \n",
    "\n",
    "$$P = (1 - [1 - \\frac 1 m]^{kn})^k$$\n",
    "\n",
    "2. Optimal Size of the filter: Given desired probablity of false positives and n being the number of elements that are to be placed in the filter, we have:\n",
    "\n",
    "$$m = -\\frac{n\\ln p}{(\\ln 2)^2}$$\n",
    "\n",
    "3. No. of hash functions: Given a filter of size m and we have n elements to be inserted, the optimal number for hash functions is:  \n",
    "\n",
    "$$k = \\frac{m} {n}\\ln2$$\n",
    "\n",
    "4. We need fast independent hash functions which are uniformly distributed. Here I am using mm3. We can also create multiple hash functions using md5, sha1 and sha224 - however these can be computationally expensive"
   ]
  },
  {
   "cell_type": "code",
   "execution_count": 5,
   "id": "2ce89d4c",
   "metadata": {},
   "outputs": [],
   "source": [
    "location_cuisine_map = {\n",
    "    \"indian\",\n",
    "    \"west indian\",\n",
    "    \"thai\",\n",
    "    \"sushi\",\n",
    "    \"chinese\",\n",
    "    \"carribean\",\n",
    "    \"italian\",\n",
    "    \"pub\",\n",
    "    \"bbq\",\n",
    "    \"portugese\",\n",
    "    \"spanish\",\n",
    "    \"french\",\n",
    "    \"east european\"\n",
    "}\n",
    "\n",
    "n = 1000000\n",
    "p = 0.01\n",
    "blf = BloomFilter(n=n, p=p)\n",
    "for item in location_cuisine_map:\n",
    "    blf.insert(item)"
   ]
  },
  {
   "cell_type": "code",
   "execution_count": 6,
   "id": "ac893e66",
   "metadata": {},
   "outputs": [
    {
     "data": {
      "text/plain": [
       "1.198197"
      ]
     },
     "execution_count": 6,
     "metadata": {},
     "output_type": "execute_result"
    }
   ],
   "source": [
    "blf.get_size_of_filter() # value in MB"
   ]
  },
  {
   "cell_type": "code",
   "execution_count": 7,
   "id": "ad908d04",
   "metadata": {},
   "outputs": [],
   "source": [
    "def check_filter(input_string):\n",
    "    queries = extract_relevant_terms(input_string)\n",
    "    if not queries:\n",
    "        return None\n",
    "    \n",
    "    # worst case(o(n) where n is the length of n_grams contained)\n",
    "    for query in queries:\n",
    "        if blf.is_present(query):\n",
    "            return input_string, query\n",
    "    return None"
   ]
  },
  {
   "cell_type": "code",
   "execution_count": 12,
   "id": "46fb242a",
   "metadata": {
    "scrolled": true
   },
   "outputs": [
    {
     "name": "stdout",
     "output_type": "stream",
     "text": [
      "2.88 ms ± 34.8 µs per loop (mean ± std. dev. of 7 runs, 100 loops each)\n"
     ]
    }
   ],
   "source": [
    "%%timeit\n",
    "result = check_filter(\"Which restaurants do West Indian food\")"
   ]
  },
  {
   "cell_type": "code",
   "execution_count": 13,
   "id": "df424d35",
   "metadata": {},
   "outputs": [
    {
     "data": {
      "text/plain": [
       "('Which restaurants do West Indian food', 'west indian')"
      ]
     },
     "execution_count": 13,
     "metadata": {},
     "output_type": "execute_result"
    }
   ],
   "source": [
    "check_filter(\"Which restaurants do West Indian food\")"
   ]
  },
  {
   "cell_type": "code",
   "execution_count": 14,
   "id": "f699feb8",
   "metadata": {},
   "outputs": [
    {
     "name": "stdout",
     "output_type": "stream",
     "text": [
      "3.21 ms ± 247 µs per loop (mean ± std. dev. of 7 runs, 100 loops each)\n"
     ]
    }
   ],
   "source": [
    "%%timeit\n",
    "check_filter(\"What is the weather today\")"
   ]
  },
  {
   "cell_type": "code",
   "execution_count": 15,
   "id": "f5c00c54",
   "metadata": {},
   "outputs": [],
   "source": [
    "check_filter(\"What is the weather today\")"
   ]
  },
  {
   "cell_type": "markdown",
   "id": "d9b58621",
   "metadata": {},
   "source": [
    "I think Bloom Filter gives benefits in memory with speed comparable to hash map look up"
   ]
  },
  {
   "cell_type": "code",
   "execution_count": null,
   "id": "8ea3fdb9",
   "metadata": {},
   "outputs": [],
   "source": []
  }
 ],
 "metadata": {
  "kernelspec": {
   "display_name": "Python 3",
   "language": "python",
   "name": "python3"
  },
  "language_info": {
   "codemirror_mode": {
    "name": "ipython",
    "version": 3
   },
   "file_extension": ".py",
   "mimetype": "text/x-python",
   "name": "python",
   "nbconvert_exporter": "python",
   "pygments_lexer": "ipython3",
   "version": "3.7.10"
  }
 },
 "nbformat": 4,
 "nbformat_minor": 5
}
